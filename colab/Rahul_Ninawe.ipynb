{
  "nbformat": 4,
  "nbformat_minor": 0,
  "metadata": {
    "colab": {
      "provenance": [],
      "authorship_tag": "ABX9TyNvxPFiUWUMsCnYHZxWMWN1",
      "include_colab_link": true
    },
    "kernelspec": {
      "name": "python3",
      "display_name": "Python 3"
    },
    "language_info": {
      "name": "python"
    }
  },
  "cells": [
    {
      "cell_type": "markdown",
      "metadata": {
        "id": "view-in-github",
        "colab_type": "text"
      },
      "source": [
        "<a href=\"https://colab.research.google.com/github/RahulNinawe05/colab/blob/main/colab/Rahul_Ninawe.ipynb\" target=\"_parent\"><img src=\"https://colab.research.google.com/assets/colab-badge.svg\" alt=\"Open In Colab\"/></a>"
      ]
    },
    {
      "cell_type": "code",
      "execution_count": null,
      "metadata": {
        "id": "bvJkyLoG6MBa"
      },
      "outputs": [],
      "source": [
        "# %cd colab  # navigate into repo folder\n",
        "\n",
        "# !git add .\n",
        "# !git commit -m \"Your commit message\"\n",
        "# !git push xxxxx"
      ]
    },
    {
      "cell_type": "code",
      "source": [],
      "metadata": {
        "id": "VFxGGKrJ6kmC"
      },
      "execution_count": null,
      "outputs": []
    }
  ]
}